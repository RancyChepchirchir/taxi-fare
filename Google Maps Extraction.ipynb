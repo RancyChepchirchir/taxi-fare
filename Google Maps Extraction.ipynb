{
 "cells": [
  {
   "cell_type": "code",
   "execution_count": 1,
   "metadata": {},
   "outputs": [],
   "source": [
    "import pandas as pd\n",
    "import numpy as np\n",
    "\n",
    "data = pd.read_csv('input/train.csv', nrows = 5_000_000, \n",
    "                  usecols = ['key', 'pickup_latitude', 'pickup_longitude', 'dropoff_latitude', 'dropoff_longitude'])\n",
    "\n",
    "data = data.dropna()\n",
    "\n",
    "# Remove latitude and longtiude outliers\n",
    "data = data.loc[data['pickup_latitude'].between(40, 42)]\n",
    "data = data.loc[data['pickup_longitude'].between(-75, -72)]\n",
    "data = data.loc[data['dropoff_latitude'].between(40, 42)]\n",
    "data = data.loc[data['dropoff_longitude'].between(-75, -72)]"
   ]
  },
  {
   "cell_type": "code",
   "execution_count": 2,
   "metadata": {},
   "outputs": [
    {
     "data": {
      "text/plain": [
       "2793390"
      ]
     },
     "execution_count": 2,
     "metadata": {},
     "output_type": "execute_result"
    }
   ],
   "source": [
    "data_rounded = data.round(3).groupby(['pickup_latitude', 'pickup_longitude', 'dropoff_latitude', 'dropoff_longitude'])['key'].\\\n",
    "                            count().reset_index().\\\n",
    "                            drop(columns = 'key')\n",
    "\n",
    "len(data_rounded)"
   ]
  },
  {
   "cell_type": "code",
   "execution_count": 3,
   "metadata": {},
   "outputs": [
    {
     "data": {
      "text/html": [
       "<div>\n",
       "<style scoped>\n",
       "    .dataframe tbody tr th:only-of-type {\n",
       "        vertical-align: middle;\n",
       "    }\n",
       "\n",
       "    .dataframe tbody tr th {\n",
       "        vertical-align: top;\n",
       "    }\n",
       "\n",
       "    .dataframe thead th {\n",
       "        text-align: right;\n",
       "    }\n",
       "</style>\n",
       "<table border=\"1\" class=\"dataframe\">\n",
       "  <thead>\n",
       "    <tr style=\"text-align: right;\">\n",
       "      <th></th>\n",
       "      <th>pickup_latitude</th>\n",
       "      <th>pickup_longitude</th>\n",
       "      <th>dropoff_latitude</th>\n",
       "      <th>dropoff_longitude</th>\n",
       "      <th>pickup</th>\n",
       "      <th>dropoff</th>\n",
       "      <th>l</th>\n",
       "    </tr>\n",
       "  </thead>\n",
       "  <tbody>\n",
       "    <tr>\n",
       "      <th>0</th>\n",
       "      <td>40.034</td>\n",
       "      <td>-74.276</td>\n",
       "      <td>40.034</td>\n",
       "      <td>-74.276</td>\n",
       "      <td>40.034,-74.276</td>\n",
       "      <td>40.034,-74.276</td>\n",
       "      <td>40.034,-74.276|40.034,-74.276</td>\n",
       "    </tr>\n",
       "    <tr>\n",
       "      <th>1</th>\n",
       "      <td>40.053</td>\n",
       "      <td>-74.968</td>\n",
       "      <td>40.041</td>\n",
       "      <td>-74.960</td>\n",
       "      <td>40.053,-74.968</td>\n",
       "      <td>40.041,-74.96</td>\n",
       "      <td>40.053,-74.968|40.041,-74.96</td>\n",
       "    </tr>\n",
       "    <tr>\n",
       "      <th>2</th>\n",
       "      <td>40.054</td>\n",
       "      <td>-73.017</td>\n",
       "      <td>40.057</td>\n",
       "      <td>-72.987</td>\n",
       "      <td>40.054,-73.017</td>\n",
       "      <td>40.057,-72.987</td>\n",
       "      <td>40.054,-73.017|40.057,-72.987</td>\n",
       "    </tr>\n",
       "    <tr>\n",
       "      <th>3</th>\n",
       "      <td>40.057</td>\n",
       "      <td>-72.963</td>\n",
       "      <td>40.087</td>\n",
       "      <td>-73.036</td>\n",
       "      <td>40.057,-72.963</td>\n",
       "      <td>40.087,-73.036</td>\n",
       "      <td>40.057,-72.963|40.087,-73.036</td>\n",
       "    </tr>\n",
       "    <tr>\n",
       "      <th>4</th>\n",
       "      <td>40.061</td>\n",
       "      <td>-73.532</td>\n",
       "      <td>40.065</td>\n",
       "      <td>-73.574</td>\n",
       "      <td>40.061,-73.532</td>\n",
       "      <td>40.065,-73.574</td>\n",
       "      <td>40.061,-73.532|40.065,-73.574</td>\n",
       "    </tr>\n",
       "  </tbody>\n",
       "</table>\n",
       "</div>"
      ],
      "text/plain": [
       "   pickup_latitude  pickup_longitude  dropoff_latitude  dropoff_longitude  \\\n",
       "0           40.034           -74.276            40.034            -74.276   \n",
       "1           40.053           -74.968            40.041            -74.960   \n",
       "2           40.054           -73.017            40.057            -72.987   \n",
       "3           40.057           -72.963            40.087            -73.036   \n",
       "4           40.061           -73.532            40.065            -73.574   \n",
       "\n",
       "           pickup         dropoff                              l  \n",
       "0  40.034,-74.276  40.034,-74.276  40.034,-74.276|40.034,-74.276  \n",
       "1  40.053,-74.968   40.041,-74.96   40.053,-74.968|40.041,-74.96  \n",
       "2  40.054,-73.017  40.057,-72.987  40.054,-73.017|40.057,-72.987  \n",
       "3  40.057,-72.963  40.087,-73.036  40.057,-72.963|40.087,-73.036  \n",
       "4  40.061,-73.532  40.065,-73.574  40.061,-73.532|40.065,-73.574  "
      ]
     },
     "execution_count": 3,
     "metadata": {},
     "output_type": "execute_result"
    }
   ],
   "source": [
    "data_rounded['pickup'] = data_rounded['pickup_latitude'].astype(str) + \",\" + data_rounded['pickup_longitude'].astype(str)\n",
    "data_rounded['dropoff'] = data_rounded['dropoff_latitude'].astype(str) + \",\" + data_rounded['dropoff_longitude'].astype(str)\n",
    "data_rounded['l'] = data_rounded['pickup'] + \"|\" + data_rounded['dropoff']\n",
    "data_rounded.head()"
   ]
  },
  {
   "cell_type": "code",
   "execution_count": 4,
   "metadata": {},
   "outputs": [],
   "source": [
    "import googlemaps\n",
    "\n",
    "with open('/home/ec2-user/keys/gmap.txt', 'r') as f:\n",
    "    gmap_key = str(f.read()).strip()\n",
    "    \n",
    "# Authenticate with google maps\n",
    "gmaps = googlemaps.Client(key=gmap_key)"
   ]
  },
  {
   "cell_type": "code",
   "execution_count": 5,
   "metadata": {},
   "outputs": [],
   "source": [
    "def row_proc(l):\n",
    "    pickup, dropoff = l.split('|')\n",
    "    geocode_result = gmaps.distance_matrix(pickup,dropoff)\n",
    "    #print (geocode_result)\n",
    "    try:\n",
    "        distance = float(geocode_result['rows'][0]['elements'][0]['distance']['text'].split()[0])\n",
    "        duration = geocode_result['rows'][0]['elements'][0]['duration']['text'].split()\n",
    "        \n",
    "        if len(duration)==4:\n",
    "            mins = float(duration[0])*60 + float(duration[2])\n",
    "        \n",
    "        elif len(duration) > 4:\n",
    "            print(geocode_result)\n",
    "            \n",
    "        else:\n",
    "            mins = float(duration[0])\n",
    "    except:\n",
    "        mins = np.nan\n",
    "        distance = np.nan\n",
    "        \n",
    "    try:\n",
    "        origin = str(geocode_result['origin_addresses'][0])\n",
    "        dest = str(geocode_result['destination_addresses'][0])\n",
    "    \n",
    "    except:\n",
    "        origin = np.nan\n",
    "        distance = np.nan\n",
    "        \n",
    "    return (distance, mins, origin, dest)"
   ]
  },
  {
   "cell_type": "code",
   "execution_count": 6,
   "metadata": {},
   "outputs": [
    {
     "data": {
      "text/plain": [
       "{'destination_addresses': ['2565 Ocean Pkwy, Brooklyn, NY 11235, USA'],\n",
       " 'origin_addresses': ['551 Avenue Y, Brooklyn, NY 11235, USA'],\n",
       " 'rows': [{'elements': [{'distance': {'text': '0.4 km', 'value': 397},\n",
       "     'duration': {'text': '2 mins', 'value': 107},\n",
       "     'status': 'OK'}]}],\n",
       " 'status': 'OK'}"
      ]
     },
     "execution_count": 6,
     "metadata": {},
     "output_type": "execute_result"
    }
   ],
   "source": [
    "pickup, dropoff = data_rounded.loc[1100, 'l'].split('|')\n",
    "geocode_result = gmaps.distance_matrix(pickup, dropoff)\n",
    "\n",
    "geocode_result"
   ]
  },
  {
   "cell_type": "code",
   "execution_count": 9,
   "metadata": {},
   "outputs": [
    {
     "data": {
      "text/plain": [
       "(29.8,\n",
       " 44.0,\n",
       " 'Terminal 1, 1 J F K Airport, Jamaica, NY 11430, USA',\n",
       " '525 E 13th St, New York, NY 10009, USA')"
      ]
     },
     "execution_count": 9,
     "metadata": {},
     "output_type": "execute_result"
    }
   ],
   "source": [
    "row_proc(data_rounded.loc[15000, 'l'])"
   ]
  },
  {
   "cell_type": "code",
   "execution_count": 10,
   "metadata": {},
   "outputs": [
    {
     "data": {
      "text/plain": [
       "(2.3,\n",
       " 8.0,\n",
       " '680 Madison Ave, New York, NY 10065, USA',\n",
       " '105 E 83rd St, New York, NY 10028, USA')"
      ]
     },
     "execution_count": 10,
     "metadata": {},
     "output_type": "execute_result"
    }
   ],
   "source": [
    "row_proc(data_rounded.loc[2000000, 'l'])"
   ]
  },
  {
   "cell_type": "markdown",
   "metadata": {},
   "source": [
    "## Time How Long it Takes for 100 records\n",
    "\n",
    "Use apply method and record 3 trials."
   ]
  },
  {
   "cell_type": "code",
   "execution_count": 11,
   "metadata": {},
   "outputs": [
    {
     "name": "stdout",
     "output_type": "stream",
     "text": [
      "7.25 s ± 0 ns per loop (mean ± std. dev. of 1 run, 3 loops each)\n"
     ]
    }
   ],
   "source": [
    "%%timeit -n 3 -r 1\n",
    "data_rounded.loc[:99, 'l'].apply(lambda x: row_proc(x))"
   ]
  },
  {
   "cell_type": "markdown",
   "metadata": {},
   "source": [
    "## Multithreading"
   ]
  },
  {
   "cell_type": "code",
   "execution_count": 13,
   "metadata": {},
   "outputs": [],
   "source": [
    "import threading\n",
    "from queue import Queue\n",
    "import requests\n",
    "import bs4\n",
    "from timeit import default_timer as timer"
   ]
  },
  {
   "cell_type": "markdown",
   "metadata": {},
   "source": [
    "### Time Multithreading with 100 threads and 100 records\n",
    "\n",
    "This should be faster!"
   ]
  },
  {
   "cell_type": "code",
   "execution_count": 14,
   "metadata": {},
   "outputs": [
    {
     "name": "stdout",
     "output_type": "stream",
     "text": [
      "1.04 s ± 0 ns per loop (mean ± std. dev. of 1 run, 3 loops each)\n"
     ]
    }
   ],
   "source": [
    "%%timeit -n 3 -r 1\n",
    "\n",
    "print_lock = threading.Lock()\n",
    "\n",
    "l_list = list(data_rounded.loc[:99, 'l'])\n",
    "\n",
    "# Create a new queue\n",
    "l_queue = Queue()\n",
    "\n",
    "# List to hold results\n",
    "run_l = []\n",
    "distances = []\n",
    "durations = []\n",
    "origins = []\n",
    "dests = []\n",
    "\n",
    "# Function to take an element from the queue and execute task\n",
    "def process_queue():\n",
    "    while True:\n",
    "        # Get next element from the queue\n",
    "        current_l = l_queue.get()\n",
    "        # Record the coordinates\n",
    "        run_l.append(current_l)\n",
    "        \n",
    "        # Run the function\n",
    "        r = row_proc(current_l)\n",
    "        \n",
    "        # Record the results\n",
    "        distances.append(r[0])\n",
    "        durations.append(r[1])\n",
    "        origins.append(r[2])\n",
    "        dests.append(r[3])\n",
    "        \n",
    "        # Signal to the queue that the task is done\n",
    "        l_queue.task_done()\n",
    "\n",
    "# Start 100 threads\n",
    "for i in range(100):\n",
    "    t = threading.Thread(target = process_queue)\n",
    "    # Set daemon to be true\n",
    "    t.daemon = True\n",
    "    t.start()\n",
    "    \n",
    "# Put each element of the list on the queue\n",
    "for current_l in l_list:\n",
    "    l_queue.put(current_l)\n",
    "\n",
    "# Execture the queue\n",
    "l_queue.join()\n",
    "\n",
    "end = timer()"
   ]
  },
  {
   "cell_type": "markdown",
   "metadata": {},
   "source": [
    "A seven time speed-up!"
   ]
  },
  {
   "cell_type": "code",
   "execution_count": 15,
   "metadata": {},
   "outputs": [
    {
     "data": {
      "text/plain": [
       "7.759416666666667"
      ]
     },
     "execution_count": 15,
     "metadata": {},
     "output_type": "execute_result"
    }
   ],
   "source": [
    "len(data_rounded) * (1 / 100) / 3600"
   ]
  },
  {
   "cell_type": "markdown",
   "metadata": {},
   "source": [
    "Estimated number of hours."
   ]
  },
  {
   "cell_type": "markdown",
   "metadata": {},
   "source": [
    "#### Multithreading for real"
   ]
  },
  {
   "cell_type": "markdown",
   "metadata": {},
   "source": [
    "Method for tracking progress."
   ]
  },
  {
   "cell_type": "code",
   "execution_count": 16,
   "metadata": {},
   "outputs": [
    {
     "name": "stdout",
     "output_type": "stream",
     "text": [
      "90.0% complete\r"
     ]
    }
   ],
   "source": [
    "import time\n",
    "for i in range(10):\n",
    "    time.sleep(1)\n",
    "    print(f'{100 * (i / 10)}% complete', end = '\\r')"
   ]
  },
  {
   "cell_type": "markdown",
   "metadata": {},
   "source": [
    "## Apply on test data first\n",
    "\n",
    "We'll start out using the test data since it's smaller."
   ]
  },
  {
   "cell_type": "code",
   "execution_count": 17,
   "metadata": {},
   "outputs": [
    {
     "data": {
      "text/plain": [
       "9870"
      ]
     },
     "execution_count": 17,
     "metadata": {},
     "output_type": "execute_result"
    }
   ],
   "source": [
    "test = pd.read_csv('input/test.csv', \n",
    "                  usecols = ['key', 'pickup_latitude', 'pickup_longitude', 'dropoff_latitude', \n",
    "                             'dropoff_longitude'])\n",
    "test_rounded = test.round(3).groupby(['pickup_latitude', 'pickup_longitude', 'dropoff_latitude', 'dropoff_longitude'])['key'].\\\n",
    "                            count().reset_index().\\\n",
    "                            drop(columns = 'key')\n",
    "\n",
    "len(test_rounded)"
   ]
  },
  {
   "cell_type": "code",
   "execution_count": 18,
   "metadata": {},
   "outputs": [
    {
     "data": {
      "text/html": [
       "<div>\n",
       "<style scoped>\n",
       "    .dataframe tbody tr th:only-of-type {\n",
       "        vertical-align: middle;\n",
       "    }\n",
       "\n",
       "    .dataframe tbody tr th {\n",
       "        vertical-align: top;\n",
       "    }\n",
       "\n",
       "    .dataframe thead th {\n",
       "        text-align: right;\n",
       "    }\n",
       "</style>\n",
       "<table border=\"1\" class=\"dataframe\">\n",
       "  <thead>\n",
       "    <tr style=\"text-align: right;\">\n",
       "      <th></th>\n",
       "      <th>pickup_latitude</th>\n",
       "      <th>pickup_longitude</th>\n",
       "      <th>dropoff_latitude</th>\n",
       "      <th>dropoff_longitude</th>\n",
       "      <th>pickup</th>\n",
       "      <th>dropoff</th>\n",
       "      <th>l</th>\n",
       "    </tr>\n",
       "  </thead>\n",
       "  <tbody>\n",
       "    <tr>\n",
       "      <th>0</th>\n",
       "      <td>40.573</td>\n",
       "      <td>-74.221</td>\n",
       "      <td>40.569</td>\n",
       "      <td>-74.217</td>\n",
       "      <td>40.573,-74.221</td>\n",
       "      <td>40.569,-74.217</td>\n",
       "      <td>40.573,-74.221|40.569,-74.217</td>\n",
       "    </tr>\n",
       "    <tr>\n",
       "      <th>1</th>\n",
       "      <td>40.583</td>\n",
       "      <td>-74.252</td>\n",
       "      <td>40.588</td>\n",
       "      <td>-74.263</td>\n",
       "      <td>40.583,-74.252</td>\n",
       "      <td>40.588,-74.263</td>\n",
       "      <td>40.583,-74.252|40.588,-74.263</td>\n",
       "    </tr>\n",
       "    <tr>\n",
       "      <th>2</th>\n",
       "      <td>40.588</td>\n",
       "      <td>-73.974</td>\n",
       "      <td>40.593</td>\n",
       "      <td>-73.973</td>\n",
       "      <td>40.588,-73.974</td>\n",
       "      <td>40.593,-73.973</td>\n",
       "      <td>40.588,-73.974|40.593,-73.973</td>\n",
       "    </tr>\n",
       "    <tr>\n",
       "      <th>3</th>\n",
       "      <td>40.605</td>\n",
       "      <td>-73.980</td>\n",
       "      <td>40.603</td>\n",
       "      <td>-73.973</td>\n",
       "      <td>40.605,-73.98</td>\n",
       "      <td>40.603,-73.973</td>\n",
       "      <td>40.605,-73.98|40.603,-73.973</td>\n",
       "    </tr>\n",
       "    <tr>\n",
       "      <th>4</th>\n",
       "      <td>40.623</td>\n",
       "      <td>-73.988</td>\n",
       "      <td>40.623</td>\n",
       "      <td>-73.988</td>\n",
       "      <td>40.623,-73.988</td>\n",
       "      <td>40.623,-73.988</td>\n",
       "      <td>40.623,-73.988|40.623,-73.988</td>\n",
       "    </tr>\n",
       "  </tbody>\n",
       "</table>\n",
       "</div>"
      ],
      "text/plain": [
       "   pickup_latitude  pickup_longitude  dropoff_latitude  dropoff_longitude  \\\n",
       "0           40.573           -74.221            40.569            -74.217   \n",
       "1           40.583           -74.252            40.588            -74.263   \n",
       "2           40.588           -73.974            40.593            -73.973   \n",
       "3           40.605           -73.980            40.603            -73.973   \n",
       "4           40.623           -73.988            40.623            -73.988   \n",
       "\n",
       "           pickup         dropoff                              l  \n",
       "0  40.573,-74.221  40.569,-74.217  40.573,-74.221|40.569,-74.217  \n",
       "1  40.583,-74.252  40.588,-74.263  40.583,-74.252|40.588,-74.263  \n",
       "2  40.588,-73.974  40.593,-73.973  40.588,-73.974|40.593,-73.973  \n",
       "3   40.605,-73.98  40.603,-73.973   40.605,-73.98|40.603,-73.973  \n",
       "4  40.623,-73.988  40.623,-73.988  40.623,-73.988|40.623,-73.988  "
      ]
     },
     "execution_count": 18,
     "metadata": {},
     "output_type": "execute_result"
    }
   ],
   "source": [
    "test_rounded['pickup'] = test_rounded['pickup_latitude'].astype(str) + \",\" + test_rounded['pickup_longitude'].astype(str)\n",
    "test_rounded['dropoff'] = test_rounded['dropoff_latitude'].astype(str) + \",\" + test_rounded['dropoff_longitude'].astype(str)\n",
    "test_rounded['l'] = test_rounded['pickup'] + \"|\" + test_rounded['dropoff']\n",
    "test_rounded.head()"
   ]
  },
  {
   "cell_type": "code",
   "execution_count": 19,
   "metadata": {},
   "outputs": [
    {
     "data": {
      "text/plain": [
       "(2.0,\n",
       " 4.0,\n",
       " '443 Federal Blvd, Carteret, NJ 07008, USA',\n",
       " '1392 Rahway Ave, Avenel, NJ 07001, USA')"
      ]
     },
     "execution_count": 19,
     "metadata": {},
     "output_type": "execute_result"
    }
   ],
   "source": [
    "row_proc(test_rounded.loc[1, 'l'])"
   ]
  },
  {
   "cell_type": "code",
   "execution_count": 20,
   "metadata": {},
   "outputs": [
    {
     "data": {
      "text/plain": [
       "(3.8,\n",
       " 12.0,\n",
       " '139 E Houston St, New York, NY 10002, USA',\n",
       " '308 Grand St, Brooklyn, NY 11211, USA')"
      ]
     },
     "execution_count": 20,
     "metadata": {},
     "output_type": "execute_result"
    }
   ],
   "source": [
    "row_proc(test_rounded.loc[1230, 'l'])"
   ]
  },
  {
   "cell_type": "code",
   "execution_count": 21,
   "metadata": {},
   "outputs": [
    {
     "name": "stdout",
     "output_type": "stream",
     "text": [
      "91.19% complete. Estimated time remaining: 0.0 hours..20.26% complete. Estimated time remaining: 0.02 hours.20.26% complete. Estimated time remaining: 0.02 hours.30.4% complete. Estimated time remaining: 0.02 hours.\r"
     ]
    }
   ],
   "source": [
    "start = timer()\n",
    "\n",
    "print_lock = threading.Lock()\n",
    "\n",
    "l_list = list(test_rounded['l'])\n",
    "\n",
    "# Create a new queue\n",
    "l_queue = Queue()\n",
    "\n",
    "# List to hold results\n",
    "run_l = []\n",
    "distances = []\n",
    "durations = []\n",
    "origins = []\n",
    "dests = []\n",
    "TRACKER = 0\n",
    "\n",
    "# Function to take an element from the queue and execute task\n",
    "def process_queue():\n",
    "    while True:\n",
    "        global TRACKER\n",
    "        TRACKER += 1\n",
    "        # Get next element from the queue\n",
    "        current_l = l_queue.get()\n",
    "        # Record the coordinates\n",
    "        run_l.append(current_l)\n",
    "        \n",
    "        # Run the function\n",
    "        r = row_proc(current_l)\n",
    "        \n",
    "        # Record the results\n",
    "        distances.append(r[0])\n",
    "        durations.append(r[1])\n",
    "        origins.append(r[2])\n",
    "        dests.append(r[3])\n",
    "        \n",
    "        if TRACKER % 1000 == 0:\n",
    "            time_per_record = (timer() - start) / TRACKER \n",
    "            estimated_time = ((len(test_rounded) - TRACKER) * time_per_record) / 3600\n",
    "            print(f'{round(100 * (TRACKER / len(test_rounded)), 2)}% complete. Estimated time remaining: {round(estimated_time, 2)} hours.', end = '\\r')\n",
    "            \n",
    "        # Signal to the queue that the task is done\n",
    "        l_queue.task_done()\n",
    "\n",
    "# Start 100 threads\n",
    "for i in range(100):\n",
    "    t = threading.Thread(target = process_queue)\n",
    "    # Set daemon to be true\n",
    "    t.daemon = True\n",
    "    t.start()\n",
    "    \n",
    "# Put each element of the list on the queue\n",
    "for current_l in l_list:\n",
    "    l_queue.put(current_l)\n",
    "\n",
    "# Execture the queue\n",
    "l_queue.join()\n",
    "\n",
    "end = timer()"
   ]
  },
  {
   "cell_type": "code",
   "execution_count": 22,
   "metadata": {},
   "outputs": [
    {
     "name": "stdout",
     "output_type": "stream",
     "text": [
      "103.08 seconds elapsed.\n"
     ]
    }
   ],
   "source": [
    "print(f'{round(end - start, 2)} seconds elapsed.')"
   ]
  },
  {
   "cell_type": "markdown",
   "metadata": {},
   "source": [
    "That was only 10000 records. The real dataset has almost 3,000,000."
   ]
  },
  {
   "cell_type": "markdown",
   "metadata": {},
   "source": [
    "## Post-Processing"
   ]
  },
  {
   "cell_type": "code",
   "execution_count": 23,
   "metadata": {},
   "outputs": [
    {
     "data": {
      "text/html": [
       "<div>\n",
       "<style scoped>\n",
       "    .dataframe tbody tr th:only-of-type {\n",
       "        vertical-align: middle;\n",
       "    }\n",
       "\n",
       "    .dataframe tbody tr th {\n",
       "        vertical-align: top;\n",
       "    }\n",
       "\n",
       "    .dataframe thead th {\n",
       "        text-align: right;\n",
       "    }\n",
       "</style>\n",
       "<table border=\"1\" class=\"dataframe\">\n",
       "  <thead>\n",
       "    <tr style=\"text-align: right;\">\n",
       "      <th></th>\n",
       "      <th>l</th>\n",
       "      <th>distance</th>\n",
       "      <th>duration</th>\n",
       "      <th>origin</th>\n",
       "      <th>destination</th>\n",
       "    </tr>\n",
       "  </thead>\n",
       "  <tbody>\n",
       "    <tr>\n",
       "      <th>0</th>\n",
       "      <td>40.573,-74.221|40.569,-74.217</td>\n",
       "      <td>2.0</td>\n",
       "      <td>4.0</td>\n",
       "      <td>443 Federal Blvd, Carteret, NJ 07008, USA</td>\n",
       "      <td>1392 Rahway Ave, Avenel, NJ 07001, USA</td>\n",
       "    </tr>\n",
       "    <tr>\n",
       "      <th>1</th>\n",
       "      <td>40.583,-74.252|40.588,-74.263</td>\n",
       "      <td>1.0</td>\n",
       "      <td>1.0</td>\n",
       "      <td>1745 59th St, Brooklyn, NY 11204, USA</td>\n",
       "      <td>1745 59th St, Brooklyn, NY 11204, USA</td>\n",
       "    </tr>\n",
       "    <tr>\n",
       "      <th>2</th>\n",
       "      <td>40.588,-73.974|40.593,-73.973</td>\n",
       "      <td>1.0</td>\n",
       "      <td>4.0</td>\n",
       "      <td>101 Abbi Rd, Carteret, NJ 07008, USA</td>\n",
       "      <td>Waterfront Fitness Trail, Carteret, NJ 07008, USA</td>\n",
       "    </tr>\n",
       "    <tr>\n",
       "      <th>3</th>\n",
       "      <td>40.605,-73.98|40.603,-73.973</td>\n",
       "      <td>0.8</td>\n",
       "      <td>4.0</td>\n",
       "      <td>729 E 2nd St, Brooklyn, NY 11218, USA</td>\n",
       "      <td>1711 44th St, Brooklyn, NY 11204, USA</td>\n",
       "    </tr>\n",
       "    <tr>\n",
       "      <th>4</th>\n",
       "      <td>40.623,-73.988|40.623,-73.988</td>\n",
       "      <td>1.1</td>\n",
       "      <td>5.0</td>\n",
       "      <td>1739a W 7th St, Brooklyn, NY 11223, USA</td>\n",
       "      <td>48 Lake St, Brooklyn, NY 11223, USA</td>\n",
       "    </tr>\n",
       "  </tbody>\n",
       "</table>\n",
       "</div>"
      ],
      "text/plain": [
       "                               l  distance  duration  \\\n",
       "0  40.573,-74.221|40.569,-74.217       2.0       4.0   \n",
       "1  40.583,-74.252|40.588,-74.263       1.0       1.0   \n",
       "2  40.588,-73.974|40.593,-73.973       1.0       4.0   \n",
       "3   40.605,-73.98|40.603,-73.973       0.8       4.0   \n",
       "4  40.623,-73.988|40.623,-73.988       1.1       5.0   \n",
       "\n",
       "                                      origin  \\\n",
       "0  443 Federal Blvd, Carteret, NJ 07008, USA   \n",
       "1      1745 59th St, Brooklyn, NY 11204, USA   \n",
       "2       101 Abbi Rd, Carteret, NJ 07008, USA   \n",
       "3      729 E 2nd St, Brooklyn, NY 11218, USA   \n",
       "4    1739a W 7th St, Brooklyn, NY 11223, USA   \n",
       "\n",
       "                                         destination  \n",
       "0             1392 Rahway Ave, Avenel, NJ 07001, USA  \n",
       "1              1745 59th St, Brooklyn, NY 11204, USA  \n",
       "2  Waterfront Fitness Trail, Carteret, NJ 07008, USA  \n",
       "3              1711 44th St, Brooklyn, NY 11204, USA  \n",
       "4                48 Lake St, Brooklyn, NY 11223, USA  "
      ]
     },
     "execution_count": 23,
     "metadata": {},
     "output_type": "execute_result"
    }
   ],
   "source": [
    "test_results = pd.DataFrame({'l': run_l, 'distance': distances, 'duration': durations,\n",
    "                             'origin': origins, 'destination': dests})\n",
    "test_results.head()"
   ]
  },
  {
   "cell_type": "code",
   "execution_count": 25,
   "metadata": {},
   "outputs": [
    {
     "data": {
      "text/html": [
       "<div>\n",
       "<style scoped>\n",
       "    .dataframe tbody tr th:only-of-type {\n",
       "        vertical-align: middle;\n",
       "    }\n",
       "\n",
       "    .dataframe tbody tr th {\n",
       "        vertical-align: top;\n",
       "    }\n",
       "\n",
       "    .dataframe thead th {\n",
       "        text-align: right;\n",
       "    }\n",
       "</style>\n",
       "<table border=\"1\" class=\"dataframe\">\n",
       "  <thead>\n",
       "    <tr style=\"text-align: right;\">\n",
       "      <th></th>\n",
       "      <th>key</th>\n",
       "      <th>pickup_longitude</th>\n",
       "      <th>pickup_latitude</th>\n",
       "      <th>dropoff_longitude</th>\n",
       "      <th>dropoff_latitude</th>\n",
       "      <th>pickup_latitude-rounded</th>\n",
       "      <th>pickup_longitude-rounded</th>\n",
       "      <th>dropoff_latitude-rounded</th>\n",
       "      <th>dropoff_longitude-rounded</th>\n",
       "      <th>pickup</th>\n",
       "      <th>dropoff</th>\n",
       "      <th>l</th>\n",
       "      <th>distance</th>\n",
       "      <th>duration</th>\n",
       "      <th>origin</th>\n",
       "      <th>destination</th>\n",
       "    </tr>\n",
       "  </thead>\n",
       "  <tbody>\n",
       "    <tr>\n",
       "      <th>0</th>\n",
       "      <td>2015-01-27 13:08:24.0000002</td>\n",
       "      <td>-73.973320</td>\n",
       "      <td>40.763805</td>\n",
       "      <td>-73.981430</td>\n",
       "      <td>40.743835</td>\n",
       "      <td>40.764</td>\n",
       "      <td>-73.973</td>\n",
       "      <td>40.744</td>\n",
       "      <td>-73.981</td>\n",
       "      <td>40.764,-73.973</td>\n",
       "      <td>40.744,-73.981</td>\n",
       "      <td>40.764,-73.973|40.744,-73.981</td>\n",
       "      <td>4.5</td>\n",
       "      <td>14.0</td>\n",
       "      <td>786 5th Ave, New York, NY 10019, USA</td>\n",
       "      <td>3855 30th St, Long Island City, NY 11101, USA</td>\n",
       "    </tr>\n",
       "    <tr>\n",
       "      <th>1</th>\n",
       "      <td>2015-01-27 13:08:24.0000003</td>\n",
       "      <td>-73.986862</td>\n",
       "      <td>40.719383</td>\n",
       "      <td>-73.998886</td>\n",
       "      <td>40.739201</td>\n",
       "      <td>40.719</td>\n",
       "      <td>-73.987</td>\n",
       "      <td>40.739</td>\n",
       "      <td>-73.999</td>\n",
       "      <td>40.719,-73.987</td>\n",
       "      <td>40.739,-73.999</td>\n",
       "      <td>40.719,-73.987|40.739,-73.999</td>\n",
       "      <td>2.4</td>\n",
       "      <td>13.0</td>\n",
       "      <td>408b Broadway, New York, NY 10013, USA</td>\n",
       "      <td>37 E 7th St, New York, NY 10003, USA</td>\n",
       "    </tr>\n",
       "    <tr>\n",
       "      <th>2</th>\n",
       "      <td>2011-10-08 11:53:44.0000002</td>\n",
       "      <td>-73.982524</td>\n",
       "      <td>40.751260</td>\n",
       "      <td>-73.979654</td>\n",
       "      <td>40.746139</td>\n",
       "      <td>40.751</td>\n",
       "      <td>-73.983</td>\n",
       "      <td>40.746</td>\n",
       "      <td>-73.980</td>\n",
       "      <td>40.751,-73.983</td>\n",
       "      <td>40.746,-73.98</td>\n",
       "      <td>40.751,-73.983|40.746,-73.98</td>\n",
       "      <td>2.2</td>\n",
       "      <td>9.0</td>\n",
       "      <td>469 7th Avenue, 469 Seventh Ave, 7th Floor, Ne...</td>\n",
       "      <td>357 W 16th St, New York, NY 10011, USA</td>\n",
       "    </tr>\n",
       "    <tr>\n",
       "      <th>3</th>\n",
       "      <td>2012-12-01 21:12:12.0000002</td>\n",
       "      <td>-73.981160</td>\n",
       "      <td>40.767807</td>\n",
       "      <td>-73.990448</td>\n",
       "      <td>40.751635</td>\n",
       "      <td>40.768</td>\n",
       "      <td>-73.981</td>\n",
       "      <td>40.752</td>\n",
       "      <td>-73.990</td>\n",
       "      <td>40.768,-73.981</td>\n",
       "      <td>40.752,-73.99</td>\n",
       "      <td>40.768,-73.981|40.752,-73.99</td>\n",
       "      <td>4.8</td>\n",
       "      <td>21.0</td>\n",
       "      <td>675 Park Ave, Brooklyn, NY 11206, USA</td>\n",
       "      <td>31 W 19th St, New York, NY 10011, USA</td>\n",
       "    </tr>\n",
       "    <tr>\n",
       "      <th>4</th>\n",
       "      <td>2012-12-01 21:12:12.0000003</td>\n",
       "      <td>-73.966046</td>\n",
       "      <td>40.789775</td>\n",
       "      <td>-73.988565</td>\n",
       "      <td>40.744427</td>\n",
       "      <td>40.790</td>\n",
       "      <td>-73.966</td>\n",
       "      <td>40.744</td>\n",
       "      <td>-73.989</td>\n",
       "      <td>40.79,-73.966</td>\n",
       "      <td>40.744,-73.989</td>\n",
       "      <td>40.79,-73.966|40.744,-73.989</td>\n",
       "      <td>7.4</td>\n",
       "      <td>15.0</td>\n",
       "      <td>101 W 96th St, New York, NY 10025, USA</td>\n",
       "      <td>659 12th Ave, New York, NY 10011, USA</td>\n",
       "    </tr>\n",
       "  </tbody>\n",
       "</table>\n",
       "</div>"
      ],
      "text/plain": [
       "                           key  pickup_longitude  pickup_latitude  \\\n",
       "0  2015-01-27 13:08:24.0000002        -73.973320        40.763805   \n",
       "1  2015-01-27 13:08:24.0000003        -73.986862        40.719383   \n",
       "2  2011-10-08 11:53:44.0000002        -73.982524        40.751260   \n",
       "3  2012-12-01 21:12:12.0000002        -73.981160        40.767807   \n",
       "4  2012-12-01 21:12:12.0000003        -73.966046        40.789775   \n",
       "\n",
       "   dropoff_longitude  dropoff_latitude  pickup_latitude-rounded  \\\n",
       "0         -73.981430         40.743835                   40.764   \n",
       "1         -73.998886         40.739201                   40.719   \n",
       "2         -73.979654         40.746139                   40.751   \n",
       "3         -73.990448         40.751635                   40.768   \n",
       "4         -73.988565         40.744427                   40.790   \n",
       "\n",
       "   pickup_longitude-rounded  dropoff_latitude-rounded  \\\n",
       "0                   -73.973                    40.744   \n",
       "1                   -73.987                    40.739   \n",
       "2                   -73.983                    40.746   \n",
       "3                   -73.981                    40.752   \n",
       "4                   -73.966                    40.744   \n",
       "\n",
       "   dropoff_longitude-rounded          pickup         dropoff  \\\n",
       "0                    -73.981  40.764,-73.973  40.744,-73.981   \n",
       "1                    -73.999  40.719,-73.987  40.739,-73.999   \n",
       "2                    -73.980  40.751,-73.983   40.746,-73.98   \n",
       "3                    -73.990  40.768,-73.981   40.752,-73.99   \n",
       "4                    -73.989   40.79,-73.966  40.744,-73.989   \n",
       "\n",
       "                               l  distance  duration  \\\n",
       "0  40.764,-73.973|40.744,-73.981       4.5      14.0   \n",
       "1  40.719,-73.987|40.739,-73.999       2.4      13.0   \n",
       "2   40.751,-73.983|40.746,-73.98       2.2       9.0   \n",
       "3   40.768,-73.981|40.752,-73.99       4.8      21.0   \n",
       "4   40.79,-73.966|40.744,-73.989       7.4      15.0   \n",
       "\n",
       "                                              origin  \\\n",
       "0               786 5th Ave, New York, NY 10019, USA   \n",
       "1             408b Broadway, New York, NY 10013, USA   \n",
       "2  469 7th Avenue, 469 Seventh Ave, 7th Floor, Ne...   \n",
       "3              675 Park Ave, Brooklyn, NY 11206, USA   \n",
       "4             101 W 96th St, New York, NY 10025, USA   \n",
       "\n",
       "                                     destination  \n",
       "0  3855 30th St, Long Island City, NY 11101, USA  \n",
       "1           37 E 7th St, New York, NY 10003, USA  \n",
       "2         357 W 16th St, New York, NY 10011, USA  \n",
       "3          31 W 19th St, New York, NY 10011, USA  \n",
       "4          659 12th Ave, New York, NY 10011, USA  "
      ]
     },
     "execution_count": 25,
     "metadata": {},
     "output_type": "execute_result"
    }
   ],
   "source": [
    "test_rounded = test_rounded.merge(test_results, on = ['l'], how = 'left')\n",
    "\n",
    "rounded_cols = []\n",
    "for l in ['pickup_latitude', 'pickup_longitude', 'dropoff_latitude', 'dropoff_longitude']:\n",
    "    r = f'{l}-rounded'\n",
    "    rounded_cols.append(r)\n",
    "    test[r] = test[l].round(3)\n",
    "    \n",
    "test_rounded.columns = rounded_cols + list(test_rounded.columns[4:])\n",
    "test = test.merge(test_rounded, on = rounded_cols, how = 'left')\n",
    "test.head()"
   ]
  },
  {
   "cell_type": "code",
   "execution_count": 26,
   "metadata": {},
   "outputs": [],
   "source": [
    "features_to_keep = ['key', 'distance', 'duration', 'origin', 'destination']\n",
    "\n",
    "test[features_to_keep].to_csv('input/test_rounded_distances-3digits.csv', index = False)"
   ]
  },
  {
   "cell_type": "markdown",
   "metadata": {},
   "source": [
    "# Repeat with Entire Dataset"
   ]
  },
  {
   "cell_type": "code",
   "execution_count": null,
   "metadata": {},
   "outputs": [],
   "source": [
    "start = timer()\n",
    "\n",
    "print_lock = threading.Lock()\n",
    "\n",
    "l_list = list(data_rounded['l'])\n",
    "\n",
    "# Create a new queue\n",
    "l_queue = Queue()\n",
    "\n",
    "# List to hold results\n",
    "run_l = []\n",
    "distances = []\n",
    "durations = []\n",
    "origins = []\n",
    "dests = []\n",
    "TRACKER = 0\n",
    "\n",
    "# Function to take an element from the queue and execute task\n",
    "def process_queue():\n",
    "    while True:\n",
    "        global TRACKER\n",
    "        TRACKER += 1\n",
    "        # Get next element from the queue\n",
    "        current_l = l_queue.get()\n",
    "        # Record the coordinates\n",
    "        run_l.append(current_l)\n",
    "        \n",
    "        # Run the function\n",
    "        r = row_proc(current_l)\n",
    "        \n",
    "        # Record the results\n",
    "        distances.append(r[0])\n",
    "        durations.append(r[1])\n",
    "        origins.append(r[2])\n",
    "        dests.append(r[3])\n",
    "        \n",
    "        if TRACKER % 100000 == 0:\n",
    "            time_per_record = (timer() - start) / TRACKER \n",
    "            estimated_time = ((len(data_rounded) - TRACKER) * time_per_record) / 3600\n",
    "            print(f'{round(100 * (TRACKER / len(data_rounded)), 2)}% complete. Estimated time remaining: {round(estimated_time, 2)} hours.', end = '\\r')\n",
    "            \n",
    "        # Signal to the queue that the task is done\n",
    "        l_queue.task_done()\n",
    "\n",
    "# Start 100 threads\n",
    "for i in range(100):\n",
    "    t = threading.Thread(target = process_queue)\n",
    "    # Set daemon to be true\n",
    "    t.daemon = True\n",
    "    t.start()\n",
    "    \n",
    "# Put each element of the list on the queue\n",
    "for current_l in l_list:\n",
    "    l_queue.put(current_l)\n",
    "\n",
    "# Execture the queue\n",
    "l_queue.join()\n",
    "\n",
    "end = timer()"
   ]
  },
  {
   "cell_type": "code",
   "execution_count": null,
   "metadata": {},
   "outputs": [],
   "source": [
    "print(f'{round(end - start, 2)} seconds elapsed.')"
   ]
  },
  {
   "cell_type": "code",
   "execution_count": null,
   "metadata": {},
   "outputs": [],
   "source": [
    "data_results = pd.DataFrame({'l': run_l, 'distance': distances, 'duration': durations,\n",
    "                             'origin': origins, 'destination': dests})\n",
    "\n",
    "data_rounded = data_rounded.merge(data_results, on = ['l'], how = 'left')\n",
    "\n",
    "rounded_cols = []\n",
    "for l in ['pickup_latitude', 'pickup_longitude', 'dropoff_latitude', 'dropoff_longitude']:\n",
    "    r = f'{l}-rounded'\n",
    "    rounded_cols.append(r)\n",
    "    data[r] = data[l].round(3)\n",
    "    \n",
    "data_rounded.columns = rounded_cols + list(data_rounded.columns[4:])\n",
    "data = data.merge(data_rounded, on = rounded_cols, how = 'left')"
   ]
  },
  {
   "cell_type": "code",
   "execution_count": null,
   "metadata": {},
   "outputs": [],
   "source": [
    "features_to_keep = ['key', 'distance', 'duration', 'origin', 'destination']\n",
    "\n",
    "data[features_to_keep].to_csv('input/rounded_distances-3digits.csv', index = False)"
   ]
  },
  {
   "cell_type": "code",
   "execution_count": null,
   "metadata": {},
   "outputs": [],
   "source": []
  }
 ],
 "metadata": {
  "kernelspec": {
   "display_name": "Python 3",
   "language": "python",
   "name": "python3"
  },
  "language_info": {
   "codemirror_mode": {
    "name": "ipython",
    "version": 3
   },
   "file_extension": ".py",
   "mimetype": "text/x-python",
   "name": "python",
   "nbconvert_exporter": "python",
   "pygments_lexer": "ipython3",
   "version": "3.6.5"
  }
 },
 "nbformat": 4,
 "nbformat_minor": 2
}
