{
 "cells": [
  {
   "cell_type": "code",
   "execution_count": 114,
   "metadata": {},
   "outputs": [],
   "source": [
    "import pandas as pd\n",
    "import numpy as np\n",
    "\n",
    "data = pd.read_csv('input/train.csv', nrows = 5_000_000, \n",
    "                  usecols = ['pickup_latitude', 'pickup_longitude', 'dropoff_latitude', 'dropoff_longitude', 'fare_amount'])\n",
    "\n",
    "data = data.dropna()\n",
    "\n",
    "# Remove latitude and longtiude outliers\n",
    "data = data.loc[data['pickup_latitude'].between(40, 42)]\n",
    "data = data.loc[data['pickup_longitude'].between(-75, -72)]\n",
    "data = data.loc[data['dropoff_latitude'].between(40, 42)]\n",
    "data = data.loc[data['dropoff_longitude'].between(-75, -72)]"
   ]
  },
  {
   "cell_type": "code",
   "execution_count": 115,
   "metadata": {},
   "outputs": [
    {
     "data": {
      "text/plain": [
       "2793390"
      ]
     },
     "execution_count": 115,
     "metadata": {},
     "output_type": "execute_result"
    }
   ],
   "source": [
    "data_rounded = data.round(3).groupby(['pickup_latitude', 'pickup_longitude', 'dropoff_latitude', 'dropoff_longitude'])['passenger_count'].\\\n",
    "                            count().reset_index().\\\n",
    "                            drop(columns = 'passenger_count')\n",
    "\n",
    "len(data_rounded)"
   ]
  },
  {
   "cell_type": "code",
   "execution_count": 116,
   "metadata": {},
   "outputs": [
    {
     "data": {
      "text/html": [
       "<div>\n",
       "<style scoped>\n",
       "    .dataframe tbody tr th:only-of-type {\n",
       "        vertical-align: middle;\n",
       "    }\n",
       "\n",
       "    .dataframe tbody tr th {\n",
       "        vertical-align: top;\n",
       "    }\n",
       "\n",
       "    .dataframe thead th {\n",
       "        text-align: right;\n",
       "    }\n",
       "</style>\n",
       "<table border=\"1\" class=\"dataframe\">\n",
       "  <thead>\n",
       "    <tr style=\"text-align: right;\">\n",
       "      <th></th>\n",
       "      <th>pickup_latitude</th>\n",
       "      <th>pickup_longitude</th>\n",
       "      <th>dropoff_latitude</th>\n",
       "      <th>dropoff_longitude</th>\n",
       "      <th>pickup</th>\n",
       "      <th>dropoff</th>\n",
       "      <th>l</th>\n",
       "    </tr>\n",
       "  </thead>\n",
       "  <tbody>\n",
       "    <tr>\n",
       "      <th>0</th>\n",
       "      <td>40.034</td>\n",
       "      <td>-74.276</td>\n",
       "      <td>40.034</td>\n",
       "      <td>-74.276</td>\n",
       "      <td>40.034,-74.276</td>\n",
       "      <td>40.034,-74.276</td>\n",
       "      <td>40.034,-74.276|40.034,-74.276</td>\n",
       "    </tr>\n",
       "    <tr>\n",
       "      <th>1</th>\n",
       "      <td>40.053</td>\n",
       "      <td>-74.968</td>\n",
       "      <td>40.041</td>\n",
       "      <td>-74.960</td>\n",
       "      <td>40.053,-74.968</td>\n",
       "      <td>40.041,-74.96</td>\n",
       "      <td>40.053,-74.968|40.041,-74.96</td>\n",
       "    </tr>\n",
       "    <tr>\n",
       "      <th>2</th>\n",
       "      <td>40.054</td>\n",
       "      <td>-73.017</td>\n",
       "      <td>40.057</td>\n",
       "      <td>-72.987</td>\n",
       "      <td>40.054,-73.017</td>\n",
       "      <td>40.057,-72.987</td>\n",
       "      <td>40.054,-73.017|40.057,-72.987</td>\n",
       "    </tr>\n",
       "    <tr>\n",
       "      <th>3</th>\n",
       "      <td>40.057</td>\n",
       "      <td>-72.963</td>\n",
       "      <td>40.087</td>\n",
       "      <td>-73.036</td>\n",
       "      <td>40.057,-72.963</td>\n",
       "      <td>40.087,-73.036</td>\n",
       "      <td>40.057,-72.963|40.087,-73.036</td>\n",
       "    </tr>\n",
       "    <tr>\n",
       "      <th>4</th>\n",
       "      <td>40.061</td>\n",
       "      <td>-73.532</td>\n",
       "      <td>40.065</td>\n",
       "      <td>-73.574</td>\n",
       "      <td>40.061,-73.532</td>\n",
       "      <td>40.065,-73.574</td>\n",
       "      <td>40.061,-73.532|40.065,-73.574</td>\n",
       "    </tr>\n",
       "  </tbody>\n",
       "</table>\n",
       "</div>"
      ],
      "text/plain": [
       "   pickup_latitude  pickup_longitude  dropoff_latitude  dropoff_longitude  \\\n",
       "0           40.034           -74.276            40.034            -74.276   \n",
       "1           40.053           -74.968            40.041            -74.960   \n",
       "2           40.054           -73.017            40.057            -72.987   \n",
       "3           40.057           -72.963            40.087            -73.036   \n",
       "4           40.061           -73.532            40.065            -73.574   \n",
       "\n",
       "           pickup         dropoff                              l  \n",
       "0  40.034,-74.276  40.034,-74.276  40.034,-74.276|40.034,-74.276  \n",
       "1  40.053,-74.968   40.041,-74.96   40.053,-74.968|40.041,-74.96  \n",
       "2  40.054,-73.017  40.057,-72.987  40.054,-73.017|40.057,-72.987  \n",
       "3  40.057,-72.963  40.087,-73.036  40.057,-72.963|40.087,-73.036  \n",
       "4  40.061,-73.532  40.065,-73.574  40.061,-73.532|40.065,-73.574  "
      ]
     },
     "execution_count": 116,
     "metadata": {},
     "output_type": "execute_result"
    }
   ],
   "source": [
    "data_rounded['pickup'] = data_rounded['pickup_latitude'].astype(str) + \",\" + data_rounded['pickup_longitude'].astype(str)\n",
    "data_rounded['dropoff'] = data_rounded['dropoff_latitude'].astype(str) + \",\" + data_rounded['dropoff_longitude'].astype(str)\n",
    "data_rounded['l'] = data_rounded['pickup'] + \"|\" + data_rounded['dropoff']\n",
    "data_rounded.head()"
   ]
  },
  {
   "cell_type": "code",
   "execution_count": 117,
   "metadata": {},
   "outputs": [],
   "source": [
    "import googlemaps\n",
    "\n",
    "with open('/home/ec2-user/keys/gmap.txt', 'r') as f:\n",
    "    gmap_key = str(f.read()).strip()\n",
    "    \n",
    "# Authenticate with google maps\n",
    "gmaps = googlemaps.Client(key=gmap_key)"
   ]
  },
  {
   "cell_type": "code",
   "execution_count": 118,
   "metadata": {},
   "outputs": [],
   "source": [
    "from tqdm import tqdm_notebook\n",
    "\n",
    "tqdm.pandas()\n",
    "\n",
    "def row_proc(l):\n",
    "    pickup, dropoff = l.split('|')\n",
    "    geocode_result = gmaps.distance_matrix(pickup,dropoff)\n",
    "    #print (geocode_result)\n",
    "    try:\n",
    "        distance = float(geocode_result['rows'][0]['elements'][0]['distance']['text'].split()[0])\n",
    "        duration = geocode_result['rows'][0]['elements'][0]['duration']['text'].split()\n",
    "        \n",
    "        if len(duration)==4:\n",
    "            mins = float(duration[0])*60 + float(duration[2])\n",
    "        \n",
    "        elif len(duration) > 4:\n",
    "            print(geocode_result)\n",
    "            \n",
    "        else:\n",
    "            mins = float(duration[0])\n",
    "    except:\n",
    "        mins = np.nan\n",
    "        distance = np.nan\n",
    "        \n",
    "    try:\n",
    "        origin = geocode_result['origin_addresses']\n",
    "        dest = geocode_result['destination_addresses']\n",
    "    \n",
    "    except:\n",
    "        origin = np.nan\n",
    "        distance = np.nan\n",
    "        \n",
    "    return (distance, mins, origin, dest)"
   ]
  },
  {
   "cell_type": "code",
   "execution_count": 120,
   "metadata": {},
   "outputs": [
    {
     "data": {
      "text/plain": [
       "{'destination_addresses': ['2565 Ocean Pkwy, Brooklyn, NY 11235, USA'],\n",
       " 'origin_addresses': ['551 Avenue Y, Brooklyn, NY 11235, USA'],\n",
       " 'rows': [{'elements': [{'distance': {'text': '0.4 km', 'value': 397},\n",
       "     'duration': {'text': '2 mins', 'value': 107},\n",
       "     'status': 'OK'}]}],\n",
       " 'status': 'OK'}"
      ]
     },
     "execution_count": 120,
     "metadata": {},
     "output_type": "execute_result"
    }
   ],
   "source": [
    "pickup, dropoff = data_rounded.loc[1100, 'l'].split('|')\n",
    "geocode_result = gmaps.distance_matrix(pickup, dropoff)\n",
    "\n",
    "geocode_result"
   ]
  },
  {
   "cell_type": "code",
   "execution_count": 121,
   "metadata": {},
   "outputs": [
    {
     "data": {
      "text/plain": [
       "'40.589,-73.965'"
      ]
     },
     "execution_count": 121,
     "metadata": {},
     "output_type": "execute_result"
    }
   ],
   "source": [
    "pickup"
   ]
  },
  {
   "cell_type": "code",
   "execution_count": 122,
   "metadata": {},
   "outputs": [
    {
     "data": {
      "text/plain": [
       "'40.587,-73.966'"
      ]
     },
     "execution_count": 122,
     "metadata": {},
     "output_type": "execute_result"
    }
   ],
   "source": [
    "dropoff"
   ]
  },
  {
   "cell_type": "code",
   "execution_count": 129,
   "metadata": {},
   "outputs": [
    {
     "data": {
      "text/plain": [
       "(29.8,\n",
       " 44.0,\n",
       " ['Terminal 1, 1 J F K Airport, Jamaica, NY 11430, USA'],\n",
       " ['525 E 13th St, New York, NY 10009, USA'])"
      ]
     },
     "execution_count": 129,
     "metadata": {},
     "output_type": "execute_result"
    }
   ],
   "source": [
    "row_proc(data_rounded.loc[15000, 'l'])"
   ]
  },
  {
   "cell_type": "code",
   "execution_count": 130,
   "metadata": {},
   "outputs": [
    {
     "data": {
      "text/html": [
       "<div>\n",
       "<style scoped>\n",
       "    .dataframe tbody tr th:only-of-type {\n",
       "        vertical-align: middle;\n",
       "    }\n",
       "\n",
       "    .dataframe tbody tr th {\n",
       "        vertical-align: top;\n",
       "    }\n",
       "\n",
       "    .dataframe thead th {\n",
       "        text-align: right;\n",
       "    }\n",
       "</style>\n",
       "<table border=\"1\" class=\"dataframe\">\n",
       "  <thead>\n",
       "    <tr style=\"text-align: right;\">\n",
       "      <th></th>\n",
       "      <th>pickup_latitude</th>\n",
       "      <th>pickup_longitude</th>\n",
       "      <th>dropoff_latitude</th>\n",
       "      <th>dropoff_longitude</th>\n",
       "      <th>pickup</th>\n",
       "      <th>dropoff</th>\n",
       "      <th>l</th>\n",
       "    </tr>\n",
       "  </thead>\n",
       "  <tbody>\n",
       "    <tr>\n",
       "      <th>0</th>\n",
       "      <td>40.034</td>\n",
       "      <td>-74.276</td>\n",
       "      <td>40.034</td>\n",
       "      <td>-74.276</td>\n",
       "      <td>40.034,-74.276</td>\n",
       "      <td>40.034,-74.276</td>\n",
       "      <td>40.034,-74.276|40.034,-74.276</td>\n",
       "    </tr>\n",
       "    <tr>\n",
       "      <th>1</th>\n",
       "      <td>40.053</td>\n",
       "      <td>-74.968</td>\n",
       "      <td>40.041</td>\n",
       "      <td>-74.960</td>\n",
       "      <td>40.053,-74.968</td>\n",
       "      <td>40.041,-74.96</td>\n",
       "      <td>40.053,-74.968|40.041,-74.96</td>\n",
       "    </tr>\n",
       "    <tr>\n",
       "      <th>2</th>\n",
       "      <td>40.054</td>\n",
       "      <td>-73.017</td>\n",
       "      <td>40.057</td>\n",
       "      <td>-72.987</td>\n",
       "      <td>40.054,-73.017</td>\n",
       "      <td>40.057,-72.987</td>\n",
       "      <td>40.054,-73.017|40.057,-72.987</td>\n",
       "    </tr>\n",
       "    <tr>\n",
       "      <th>3</th>\n",
       "      <td>40.057</td>\n",
       "      <td>-72.963</td>\n",
       "      <td>40.087</td>\n",
       "      <td>-73.036</td>\n",
       "      <td>40.057,-72.963</td>\n",
       "      <td>40.087,-73.036</td>\n",
       "      <td>40.057,-72.963|40.087,-73.036</td>\n",
       "    </tr>\n",
       "    <tr>\n",
       "      <th>4</th>\n",
       "      <td>40.061</td>\n",
       "      <td>-73.532</td>\n",
       "      <td>40.065</td>\n",
       "      <td>-73.574</td>\n",
       "      <td>40.061,-73.532</td>\n",
       "      <td>40.065,-73.574</td>\n",
       "      <td>40.061,-73.532|40.065,-73.574</td>\n",
       "    </tr>\n",
       "  </tbody>\n",
       "</table>\n",
       "</div>"
      ],
      "text/plain": [
       "   pickup_latitude  pickup_longitude  dropoff_latitude  dropoff_longitude  \\\n",
       "0           40.034           -74.276            40.034            -74.276   \n",
       "1           40.053           -74.968            40.041            -74.960   \n",
       "2           40.054           -73.017            40.057            -72.987   \n",
       "3           40.057           -72.963            40.087            -73.036   \n",
       "4           40.061           -73.532            40.065            -73.574   \n",
       "\n",
       "           pickup         dropoff                              l  \n",
       "0  40.034,-74.276  40.034,-74.276  40.034,-74.276|40.034,-74.276  \n",
       "1  40.053,-74.968   40.041,-74.96   40.053,-74.968|40.041,-74.96  \n",
       "2  40.054,-73.017  40.057,-72.987  40.054,-73.017|40.057,-72.987  \n",
       "3  40.057,-72.963  40.087,-73.036  40.057,-72.963|40.087,-73.036  \n",
       "4  40.061,-73.532  40.065,-73.574  40.061,-73.532|40.065,-73.574  "
      ]
     },
     "execution_count": 130,
     "metadata": {},
     "output_type": "execute_result"
    }
   ],
   "source": [
    "data_rounded.head()"
   ]
  },
  {
   "cell_type": "markdown",
   "metadata": {},
   "source": [
    "## Time How Long it Takes for 100 records"
   ]
  },
  {
   "cell_type": "code",
   "execution_count": 131,
   "metadata": {},
   "outputs": [
    {
     "name": "stdout",
     "output_type": "stream",
     "text": [
      "7.82 s ± 0 ns per loop (mean ± std. dev. of 1 run, 3 loops each)\n"
     ]
    }
   ],
   "source": [
    "%%timeit -n 3 -r 1\n",
    "data_rounded.loc[:99, 'l'].apply(lambda x: row_proc(x))"
   ]
  },
  {
   "cell_type": "markdown",
   "metadata": {},
   "source": [
    "## Multithreading"
   ]
  },
  {
   "cell_type": "code",
   "execution_count": 132,
   "metadata": {},
   "outputs": [],
   "source": [
    "import threading\n",
    "from queue import Queue\n",
    "import requests\n",
    "import bs4\n",
    "from timeit import default_timer as timer"
   ]
  },
  {
   "cell_type": "markdown",
   "metadata": {},
   "source": [
    "### Time Multithreading with 100 threads"
   ]
  },
  {
   "cell_type": "code",
   "execution_count": 133,
   "metadata": {},
   "outputs": [
    {
     "name": "stdout",
     "output_type": "stream",
     "text": [
      "1.07 s ± 0 ns per loop (mean ± std. dev. of 1 run, 3 loops each)\n"
     ]
    }
   ],
   "source": [
    "%%timeit -n 3 -r 1\n",
    "\n",
    "print_lock = threading.Lock()\n",
    "\n",
    "l_list = list(data_rounded.loc[:99, 'l'])\n",
    "\n",
    "# Create a new queue\n",
    "l_queue = Queue()\n",
    "\n",
    "# List to hold results\n",
    "run_l = []\n",
    "distances = []\n",
    "durations = []\n",
    "origins = []\n",
    "dests = []\n",
    "\n",
    "# Function to take an element from the queue and execute task\n",
    "def process_queue():\n",
    "    while True:\n",
    "        # Get next element from the queue\n",
    "        current_l = l_queue.get()\n",
    "        # Record the coordinates\n",
    "        run_l.append(current_l)\n",
    "        \n",
    "        # Run the function\n",
    "        r = row_proc(current_l)\n",
    "        \n",
    "        # Record the results\n",
    "        distances.append(r[0])\n",
    "        durations.append(r[1])\n",
    "        origins.append(r[2])\n",
    "        dests.append(r[3])\n",
    "        \n",
    "        # Signal to the queue that the task is done\n",
    "        l_queue.task_done()\n",
    "\n",
    "# Start 100 threads\n",
    "for i in range(100):\n",
    "    t = threading.Thread(target = process_queue)\n",
    "    # Set daemon to be true\n",
    "    t.daemon = True\n",
    "    t.start()\n",
    "    \n",
    "# Put each element of the list on the queue\n",
    "for current_l in l_list:\n",
    "    l_queue.put(current_l)\n",
    "\n",
    "# Execture the queue\n",
    "l_queue.join()\n",
    "\n",
    "end = timer()"
   ]
  },
  {
   "cell_type": "markdown",
   "metadata": {},
   "source": [
    "A seven time speed-up!"
   ]
  },
  {
   "cell_type": "code",
   "execution_count": 135,
   "metadata": {},
   "outputs": [
    {
     "data": {
      "text/plain": [
       "7.759416666666667"
      ]
     },
     "execution_count": 135,
     "metadata": {},
     "output_type": "execute_result"
    }
   ],
   "source": [
    "len(data_rounded) * (1 / 100) / 3600"
   ]
  },
  {
   "cell_type": "markdown",
   "metadata": {},
   "source": [
    "#### Multithreading for real"
   ]
  },
  {
   "cell_type": "code",
   "execution_count": 137,
   "metadata": {},
   "outputs": [
    {
     "name": "stdout",
     "output_type": "stream",
     "text": [
      "90.0% complete\r"
     ]
    }
   ],
   "source": [
    "import time\n",
    "for i in range(10):\n",
    "    time.sleep(1)\n",
    "    print(f'{100 * (i / 10)}% complete', end = '\\r')"
   ]
  },
  {
   "cell_type": "code",
   "execution_count": null,
   "metadata": {},
   "outputs": [
    {
     "name": "stdout",
     "output_type": "stream",
     "text": [
      "7.159759288892707% complete..\r"
     ]
    }
   ],
   "source": [
    "start = timer()\n",
    "\n",
    "print_lock = threading.Lock()\n",
    "\n",
    "l_list = list(data_rounded['l'])\n",
    "\n",
    "# Create a new queue\n",
    "l_queue = Queue()\n",
    "\n",
    "# List to hold results\n",
    "run_l = []\n",
    "distances = []\n",
    "durations = []\n",
    "origins = []\n",
    "dests = []\n",
    "TRACKER = 0\n",
    "\n",
    "# Function to take an element from the queue and execute task\n",
    "def process_queue():\n",
    "    while True:\n",
    "        global TRACKER\n",
    "        TRACKER += 1\n",
    "        # Get next element from the queue\n",
    "        current_l = l_queue.get()\n",
    "        # Record the coordinates\n",
    "        run_l.append(current_l)\n",
    "        \n",
    "        # Run the function\n",
    "        r = row_proc(current_l)\n",
    "        \n",
    "        # Record the results\n",
    "        distances.append(r[0])\n",
    "        durations.append(r[1])\n",
    "        origins.append(r[2])\n",
    "        dests.append(r[3])\n",
    "        \n",
    "        if TRACKER % 100000 == 0:\n",
    "            time_per_record = (timer() - start) / TRACKER \n",
    "            print(f'{round(100 * (TRACKER / len(data_rounded)), 2)}% complete.', end = '\\r')\n",
    "            estimated_time = ((len(data_rounded) - TRACKER) * time_per_record) / 3600\n",
    "            print(f'Estimated time remaining: {estimated_time} hours.', end = '\\r')\n",
    "            \n",
    "        # Signal to the queue that the task is done\n",
    "        l_queue.task_done()\n",
    "\n",
    "# Start 100 threads\n",
    "for i in range(100):\n",
    "    t = threading.Thread(target = process_queue)\n",
    "    # Set daemon to be true\n",
    "    t.daemon = True\n",
    "    t.start()\n",
    "    \n",
    "# Put each element of the list on the queue\n",
    "for current_l in l_list:\n",
    "    l_queue.put(current_l)\n",
    "\n",
    "# Execture the queue\n",
    "l_queue.join()\n",
    "\n",
    "end = timer()"
   ]
  },
  {
   "cell_type": "code",
   "execution_count": 125,
   "metadata": {},
   "outputs": [
    {
     "data": {
      "text/plain": [
       "9870"
      ]
     },
     "execution_count": 125,
     "metadata": {},
     "output_type": "execute_result"
    }
   ],
   "source": [
    "test = pd.read_csv('input/test.csv', \n",
    "                  usecols = ['pickup_latitude', 'pickup_longitude', 'dropoff_latitude', \n",
    "                             'dropoff_longitude', 'passenger_count'])\n",
    "test_rounded = test.round(3).groupby(['pickup_latitude', 'pickup_longitude', 'dropoff_latitude', 'dropoff_longitude'])['passenger_count'].\\\n",
    "                            count().reset_index().\\\n",
    "                            drop(columns = 'passenger_count')\n",
    "\n",
    "len(test_rounded)"
   ]
  },
  {
   "cell_type": "code",
   "execution_count": 127,
   "metadata": {},
   "outputs": [
    {
     "data": {
      "text/html": [
       "<div>\n",
       "<style scoped>\n",
       "    .dataframe tbody tr th:only-of-type {\n",
       "        vertical-align: middle;\n",
       "    }\n",
       "\n",
       "    .dataframe tbody tr th {\n",
       "        vertical-align: top;\n",
       "    }\n",
       "\n",
       "    .dataframe thead th {\n",
       "        text-align: right;\n",
       "    }\n",
       "</style>\n",
       "<table border=\"1\" class=\"dataframe\">\n",
       "  <thead>\n",
       "    <tr style=\"text-align: right;\">\n",
       "      <th></th>\n",
       "      <th>pickup_latitude</th>\n",
       "      <th>pickup_longitude</th>\n",
       "      <th>dropoff_latitude</th>\n",
       "      <th>dropoff_longitude</th>\n",
       "      <th>pickup</th>\n",
       "      <th>dropoff</th>\n",
       "      <th>l</th>\n",
       "    </tr>\n",
       "  </thead>\n",
       "  <tbody>\n",
       "    <tr>\n",
       "      <th>0</th>\n",
       "      <td>40.573</td>\n",
       "      <td>-74.221</td>\n",
       "      <td>40.569</td>\n",
       "      <td>-74.217</td>\n",
       "      <td>40.573,-74.221</td>\n",
       "      <td>40.569,-74.217</td>\n",
       "      <td>40.573,-74.221|40.569,-74.217</td>\n",
       "    </tr>\n",
       "    <tr>\n",
       "      <th>1</th>\n",
       "      <td>40.583</td>\n",
       "      <td>-74.252</td>\n",
       "      <td>40.588</td>\n",
       "      <td>-74.263</td>\n",
       "      <td>40.583,-74.252</td>\n",
       "      <td>40.588,-74.263</td>\n",
       "      <td>40.583,-74.252|40.588,-74.263</td>\n",
       "    </tr>\n",
       "    <tr>\n",
       "      <th>2</th>\n",
       "      <td>40.588</td>\n",
       "      <td>-73.974</td>\n",
       "      <td>40.593</td>\n",
       "      <td>-73.973</td>\n",
       "      <td>40.588,-73.974</td>\n",
       "      <td>40.593,-73.973</td>\n",
       "      <td>40.588,-73.974|40.593,-73.973</td>\n",
       "    </tr>\n",
       "    <tr>\n",
       "      <th>3</th>\n",
       "      <td>40.605</td>\n",
       "      <td>-73.980</td>\n",
       "      <td>40.603</td>\n",
       "      <td>-73.973</td>\n",
       "      <td>40.605,-73.98</td>\n",
       "      <td>40.603,-73.973</td>\n",
       "      <td>40.605,-73.98|40.603,-73.973</td>\n",
       "    </tr>\n",
       "    <tr>\n",
       "      <th>4</th>\n",
       "      <td>40.623</td>\n",
       "      <td>-73.988</td>\n",
       "      <td>40.623</td>\n",
       "      <td>-73.988</td>\n",
       "      <td>40.623,-73.988</td>\n",
       "      <td>40.623,-73.988</td>\n",
       "      <td>40.623,-73.988|40.623,-73.988</td>\n",
       "    </tr>\n",
       "  </tbody>\n",
       "</table>\n",
       "</div>"
      ],
      "text/plain": [
       "   pickup_latitude  pickup_longitude  dropoff_latitude  dropoff_longitude  \\\n",
       "0           40.573           -74.221            40.569            -74.217   \n",
       "1           40.583           -74.252            40.588            -74.263   \n",
       "2           40.588           -73.974            40.593            -73.973   \n",
       "3           40.605           -73.980            40.603            -73.973   \n",
       "4           40.623           -73.988            40.623            -73.988   \n",
       "\n",
       "           pickup         dropoff                              l  \n",
       "0  40.573,-74.221  40.569,-74.217  40.573,-74.221|40.569,-74.217  \n",
       "1  40.583,-74.252  40.588,-74.263  40.583,-74.252|40.588,-74.263  \n",
       "2  40.588,-73.974  40.593,-73.973  40.588,-73.974|40.593,-73.973  \n",
       "3   40.605,-73.98  40.603,-73.973   40.605,-73.98|40.603,-73.973  \n",
       "4  40.623,-73.988  40.623,-73.988  40.623,-73.988|40.623,-73.988  "
      ]
     },
     "execution_count": 127,
     "metadata": {},
     "output_type": "execute_result"
    }
   ],
   "source": [
    "test_rounded['pickup'] = test_rounded['pickup_latitude'].astype(str) + \",\" + test_rounded['pickup_longitude'].astype(str)\n",
    "test_rounded['dropoff'] = test_rounded['dropoff_latitude'].astype(str) + \",\" + test_rounded['dropoff_longitude'].astype(str)\n",
    "test_rounded['l'] = test_rounded['pickup'] + \"|\" + test_rounded['dropoff']\n",
    "test_rounded.head()"
   ]
  },
  {
   "cell_type": "code",
   "execution_count": 128,
   "metadata": {},
   "outputs": [
    {
     "data": {
      "text/plain": [
       "(2.0,\n",
       " 4.0,\n",
       " ['443 Federal Blvd, Carteret, NJ 07008, USA'],\n",
       " ['1392 Rahway Ave, Avenel, NJ 07001, USA'])"
      ]
     },
     "execution_count": 128,
     "metadata": {},
     "output_type": "execute_result"
    }
   ],
   "source": [
    "row_proc(test_rounded.loc[1, 'l'])"
   ]
  },
  {
   "cell_type": "code",
   "execution_count": 87,
   "metadata": {},
   "outputs": [],
   "source": []
  },
  {
   "cell_type": "code",
   "execution_count": 88,
   "metadata": {},
   "outputs": [
    {
     "name": "stdout",
     "output_type": "stream",
     "text": [
      "31.57 seconds elapsed.\n"
     ]
    }
   ],
   "source": [
    "print(f'{round(end - start, 2)} seconds elapsed.')"
   ]
  },
  {
   "cell_type": "code",
   "execution_count": 86,
   "metadata": {},
   "outputs": [
    {
     "data": {
      "text/plain": [
       "2995"
      ]
     },
     "execution_count": 86,
     "metadata": {},
     "output_type": "execute_result"
    }
   ],
   "source": [
    "len(test_rounded)"
   ]
  },
  {
   "cell_type": "code",
   "execution_count": 82,
   "metadata": {},
   "outputs": [
    {
     "data": {
      "text/html": [
       "<div>\n",
       "<style scoped>\n",
       "    .dataframe tbody tr th:only-of-type {\n",
       "        vertical-align: middle;\n",
       "    }\n",
       "\n",
       "    .dataframe tbody tr th {\n",
       "        vertical-align: top;\n",
       "    }\n",
       "\n",
       "    .dataframe thead th {\n",
       "        text-align: right;\n",
       "    }\n",
       "</style>\n",
       "<table border=\"1\" class=\"dataframe\">\n",
       "  <thead>\n",
       "    <tr style=\"text-align: right;\">\n",
       "      <th></th>\n",
       "      <th>pickup_latitude</th>\n",
       "      <th>pickup_longitude</th>\n",
       "      <th>dropoff_latitude</th>\n",
       "      <th>dropoff_longitude</th>\n",
       "      <th>pickup</th>\n",
       "      <th>dropoff</th>\n",
       "      <th>distance</th>\n",
       "      <th>duration</th>\n",
       "      <th>l</th>\n",
       "    </tr>\n",
       "  </thead>\n",
       "  <tbody>\n",
       "    <tr>\n",
       "      <th>0</th>\n",
       "      <td>40.57</td>\n",
       "      <td>-74.22</td>\n",
       "      <td>40.57</td>\n",
       "      <td>-74.22</td>\n",
       "      <td>40.57,-74.22</td>\n",
       "      <td>40.57,-74.22</td>\n",
       "      <td>1.0</td>\n",
       "      <td>1.0</td>\n",
       "      <td>40.57,-74.22|40.57,-74.22</td>\n",
       "    </tr>\n",
       "    <tr>\n",
       "      <th>1</th>\n",
       "      <td>40.58</td>\n",
       "      <td>-74.25</td>\n",
       "      <td>40.59</td>\n",
       "      <td>-74.26</td>\n",
       "      <td>40.58,-74.25</td>\n",
       "      <td>40.59,-74.26</td>\n",
       "      <td>3.6</td>\n",
       "      <td>8.0</td>\n",
       "      <td>40.58,-74.25|40.59,-74.26</td>\n",
       "    </tr>\n",
       "    <tr>\n",
       "      <th>2</th>\n",
       "      <td>40.59</td>\n",
       "      <td>-73.97</td>\n",
       "      <td>40.59</td>\n",
       "      <td>-73.97</td>\n",
       "      <td>40.59,-73.97</td>\n",
       "      <td>40.59,-73.97</td>\n",
       "      <td>1.0</td>\n",
       "      <td>1.0</td>\n",
       "      <td>40.59,-73.97|40.59,-73.97</td>\n",
       "    </tr>\n",
       "    <tr>\n",
       "      <th>3</th>\n",
       "      <td>40.60</td>\n",
       "      <td>-73.98</td>\n",
       "      <td>40.60</td>\n",
       "      <td>-73.97</td>\n",
       "      <td>40.6,-73.98</td>\n",
       "      <td>40.6,-73.97</td>\n",
       "      <td>1.5</td>\n",
       "      <td>6.0</td>\n",
       "      <td>40.6,-73.98|40.6,-73.97</td>\n",
       "    </tr>\n",
       "    <tr>\n",
       "      <th>4</th>\n",
       "      <td>40.62</td>\n",
       "      <td>-73.99</td>\n",
       "      <td>40.62</td>\n",
       "      <td>-73.99</td>\n",
       "      <td>40.62,-73.99</td>\n",
       "      <td>40.62,-73.99</td>\n",
       "      <td>1.0</td>\n",
       "      <td>1.0</td>\n",
       "      <td>40.62,-73.99|40.62,-73.99</td>\n",
       "    </tr>\n",
       "    <tr>\n",
       "      <th>5</th>\n",
       "      <td>40.63</td>\n",
       "      <td>-73.98</td>\n",
       "      <td>40.63</td>\n",
       "      <td>-73.98</td>\n",
       "      <td>40.63,-73.98</td>\n",
       "      <td>40.63,-73.98</td>\n",
       "      <td>1.0</td>\n",
       "      <td>1.0</td>\n",
       "      <td>40.63,-73.98|40.63,-73.98</td>\n",
       "    </tr>\n",
       "    <tr>\n",
       "      <th>6</th>\n",
       "      <td>40.63</td>\n",
       "      <td>-73.97</td>\n",
       "      <td>40.63</td>\n",
       "      <td>-73.98</td>\n",
       "      <td>40.63,-73.97</td>\n",
       "      <td>40.63,-73.98</td>\n",
       "      <td>1.8</td>\n",
       "      <td>9.0</td>\n",
       "      <td>40.63,-73.97|40.63,-73.98</td>\n",
       "    </tr>\n",
       "    <tr>\n",
       "      <th>7</th>\n",
       "      <td>40.63</td>\n",
       "      <td>-73.95</td>\n",
       "      <td>40.59</td>\n",
       "      <td>-73.93</td>\n",
       "      <td>40.63,-73.95</td>\n",
       "      <td>40.59,-73.93</td>\n",
       "      <td>5.8</td>\n",
       "      <td>17.0</td>\n",
       "      <td>40.63,-73.95|40.59,-73.93</td>\n",
       "    </tr>\n",
       "    <tr>\n",
       "      <th>8</th>\n",
       "      <td>40.63</td>\n",
       "      <td>-73.90</td>\n",
       "      <td>40.64</td>\n",
       "      <td>-73.90</td>\n",
       "      <td>40.63,-73.9</td>\n",
       "      <td>40.64,-73.9</td>\n",
       "      <td>1.8</td>\n",
       "      <td>5.0</td>\n",
       "      <td>40.63,-73.9|40.64,-73.9</td>\n",
       "    </tr>\n",
       "    <tr>\n",
       "      <th>9</th>\n",
       "      <td>40.63</td>\n",
       "      <td>-73.88</td>\n",
       "      <td>40.63</td>\n",
       "      <td>-73.89</td>\n",
       "      <td>40.63,-73.88</td>\n",
       "      <td>40.63,-73.89</td>\n",
       "      <td>1.2</td>\n",
       "      <td>5.0</td>\n",
       "      <td>40.63,-73.88|40.63,-73.89</td>\n",
       "    </tr>\n",
       "    <tr>\n",
       "      <th>10</th>\n",
       "      <td>40.63</td>\n",
       "      <td>-73.78</td>\n",
       "      <td>40.63</td>\n",
       "      <td>-73.79</td>\n",
       "      <td>40.63,-73.78</td>\n",
       "      <td>40.63,-73.79</td>\n",
       "      <td>12.7</td>\n",
       "      <td>23.0</td>\n",
       "      <td>40.63,-73.78|40.63,-73.79</td>\n",
       "    </tr>\n",
       "  </tbody>\n",
       "</table>\n",
       "</div>"
      ],
      "text/plain": [
       "    pickup_latitude  pickup_longitude  dropoff_latitude  dropoff_longitude  \\\n",
       "0             40.57            -74.22             40.57             -74.22   \n",
       "1             40.58            -74.25             40.59             -74.26   \n",
       "2             40.59            -73.97             40.59             -73.97   \n",
       "3             40.60            -73.98             40.60             -73.97   \n",
       "4             40.62            -73.99             40.62             -73.99   \n",
       "5             40.63            -73.98             40.63             -73.98   \n",
       "6             40.63            -73.97             40.63             -73.98   \n",
       "7             40.63            -73.95             40.59             -73.93   \n",
       "8             40.63            -73.90             40.64             -73.90   \n",
       "9             40.63            -73.88             40.63             -73.89   \n",
       "10            40.63            -73.78             40.63             -73.79   \n",
       "\n",
       "          pickup       dropoff  distance  duration                          l  \n",
       "0   40.57,-74.22  40.57,-74.22       1.0       1.0  40.57,-74.22|40.57,-74.22  \n",
       "1   40.58,-74.25  40.59,-74.26       3.6       8.0  40.58,-74.25|40.59,-74.26  \n",
       "2   40.59,-73.97  40.59,-73.97       1.0       1.0  40.59,-73.97|40.59,-73.97  \n",
       "3    40.6,-73.98   40.6,-73.97       1.5       6.0    40.6,-73.98|40.6,-73.97  \n",
       "4   40.62,-73.99  40.62,-73.99       1.0       1.0  40.62,-73.99|40.62,-73.99  \n",
       "5   40.63,-73.98  40.63,-73.98       1.0       1.0  40.63,-73.98|40.63,-73.98  \n",
       "6   40.63,-73.97  40.63,-73.98       1.8       9.0  40.63,-73.97|40.63,-73.98  \n",
       "7   40.63,-73.95  40.59,-73.93       5.8      17.0  40.63,-73.95|40.59,-73.93  \n",
       "8    40.63,-73.9   40.64,-73.9       1.8       5.0    40.63,-73.9|40.64,-73.9  \n",
       "9   40.63,-73.88  40.63,-73.89       1.2       5.0  40.63,-73.88|40.63,-73.89  \n",
       "10  40.63,-73.78  40.63,-73.79      12.7      23.0  40.63,-73.78|40.63,-73.79  "
      ]
     },
     "execution_count": 82,
     "metadata": {},
     "output_type": "execute_result"
    }
   ],
   "source": [
    "test_rounded.loc[:10]"
   ]
  },
  {
   "cell_type": "code",
   "execution_count": 83,
   "metadata": {},
   "outputs": [
    {
     "name": "stdout",
     "output_type": "stream",
     "text": [
      "568 ms ± 17.6 ms per loop (mean ± std. dev. of 2 runs, 3 loops each)\n"
     ]
    }
   ],
   "source": [
    "%%timeit -n 3 -r 2\n",
    "test_rounded.loc[:9]['l'].apply(lambda x: row_proc(x))"
   ]
  },
  {
   "cell_type": "code",
   "execution_count": 74,
   "metadata": {},
   "outputs": [
    {
     "data": {
      "text/plain": [
       "[1.0, 1.5, 3.6, 1.0, 1.0, 1.8, 1.0, 1.8, 5.8, 1.2]"
      ]
     },
     "execution_count": 74,
     "metadata": {},
     "output_type": "execute_result"
    }
   ],
   "source": [
    "distances"
   ]
  },
  {
   "cell_type": "code",
   "execution_count": 75,
   "metadata": {},
   "outputs": [
    {
     "data": {
      "text/plain": [
       "[1.0, 6.0, 8.0, 1.0, 1.0, 9.0, 1.0, 5.0, 17.0, 5.0]"
      ]
     },
     "execution_count": 75,
     "metadata": {},
     "output_type": "execute_result"
    }
   ],
   "source": [
    "durations"
   ]
  },
  {
   "cell_type": "code",
   "execution_count": 76,
   "metadata": {},
   "outputs": [
    {
     "data": {
      "text/plain": [
       "[['2420 West St, Brooklyn, NY 11223, USA'],\n",
       " ['2027 E 2nd St, Brooklyn, NY 11223, USA'],\n",
       " ['3 Terminal Way, Avenel, NJ 07001, USA'],\n",
       " ['Waterfront Fitness Trail, Carteret, NJ 07008, USA'],\n",
       " ['1774 64th St, Brooklyn, NY 11204, USA'],\n",
       " ['1762 46th St, Brooklyn, NY 11204, USA'],\n",
       " ['1762 46th St, Brooklyn, NY 11204, USA'],\n",
       " ['1243 E 95th St, Brooklyn, NY 11236, USA'],\n",
       " ['17 Lacon Ct, Brooklyn, NY 11229, USA'],\n",
       " ['1806 E 92nd St, Brooklyn, NY 11236, USA']]"
      ]
     },
     "execution_count": 76,
     "metadata": {},
     "output_type": "execute_result"
    }
   ],
   "source": [
    "dests"
   ]
  },
  {
   "cell_type": "code",
   "execution_count": null,
   "metadata": {},
   "outputs": [],
   "source": []
  }
 ],
 "metadata": {
  "kernelspec": {
   "display_name": "Python 3",
   "language": "python",
   "name": "python3"
  },
  "language_info": {
   "codemirror_mode": {
    "name": "ipython",
    "version": 3
   },
   "file_extension": ".py",
   "mimetype": "text/x-python",
   "name": "python",
   "nbconvert_exporter": "python",
   "pygments_lexer": "ipython3",
   "version": "3.6.5"
  }
 },
 "nbformat": 4,
 "nbformat_minor": 2
}
